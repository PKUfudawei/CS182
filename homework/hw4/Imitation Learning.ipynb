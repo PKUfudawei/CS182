{
 "cells": [
  {
   "cell_type": "markdown",
   "metadata": {},
   "source": [
    "# Imitation Learning with Neural Network Policies\n",
    "In this notebook, you will implement the supervised losses for behavior cloning and use it to train policies for locomotion tasks."
   ]
  },
  {
   "cell_type": "code",
   "execution_count": 6,
   "metadata": {},
   "outputs": [],
   "source": [
    "#@title imports\n",
    "# As usual, a bit of setup\n",
    "import os\n",
    "import shutil\n",
    "import time\n",
    "import numpy as np\n",
    "import torch\n",
    "\n",
    "import deeprl.infrastructure.pytorch_util as ptu\n",
    "\n",
    "from deeprl.infrastructure.rl_trainer import RL_Trainer\n",
    "from deeprl.infrastructure.trainers import BC_Trainer\n",
    "from deeprl.agents.bc_agent import BCAgent\n",
    "from deeprl.policies.loaded_gaussian_policy import LoadedGaussianPolicy\n",
    "from deeprl.policies.MLP_policy import MLPPolicySL\n",
    "\n",
    "%load_ext autoreload\n",
    "%autoreload 2\n",
    "\n",
    "def rel_error(x, y):\n",
    "    \"\"\" returns relative error \"\"\"\n",
    "    return np.max(np.abs(x - y) / (np.maximum(1e-8, np.abs(x) + np.abs(y))))\n",
    "\n",
    "def remove_folder(path):\n",
    "    # check if folder exists\n",
    "    if os.path.exists(path): \n",
    "        print(\"Clearing old results at {}\".format(path))\n",
    "        # remove if exists\n",
    "        shutil.rmtree(path)\n",
    "    else:\n",
    "        print(\"Folder {} does not exist yet. No old results to delete\".format(path))"
   ]
  },
  {
   "cell_type": "code",
   "execution_count": 7,
   "metadata": {},
   "outputs": [],
   "source": [
    "bc_base_args_dict = dict(\n",
    "    expert_policy_file = 'deeprl/policies/experts/Hopper.pkl', #@param\n",
    "    expert_data = 'deeprl/expert_data/expert_data_Hopper-v2.pkl', #@param\n",
    "    env_name = 'Hopper-v2', #@param ['Ant-v2', 'Humanoid-v2', 'Walker2d-v2', 'HalfCheetah-v2', 'Hopper-v2']\n",
    "    exp_name = 'test_bc', #@param\n",
    "    do_dagger = True, #@param {type: \"boolean\"}\n",
    "    ep_len = 1000, #@param {type: \"integer\"}\n",
    "    save_params = False, #@param {type: \"boolean\"}\n",
    "\n",
    "    # Training\n",
    "    num_agent_train_steps_per_iter = 1000, #@param {type: \"integer\"})\n",
    "    n_iter = 1, #@param {type: \"integer\"})\n",
    "\n",
    "    # batches & buffers\n",
    "    batch_size = 10000, #@param {type: \"integer\"})\n",
    "    eval_batch_size = 1000, #@param {type: \"integer\"}\n",
    "    train_batch_size = 100, #@param {type: \"integer\"}\n",
    "    max_replay_buffer_size = 1000000, #@param {type: \"integer\"}\n",
    "\n",
    "    #@markdown network\n",
    "    n_layers = 2, #@param {type: \"integer\"}\n",
    "    size = 64, #@param {type: \"integer\"}\n",
    "    learning_rate = 5e-3, #@param {type: \"number\"}\n",
    "\n",
    "    #@markdown logging\n",
    "    video_log_freq = -1, #@param {type: \"integer\"}\n",
    "    scalar_log_freq = 1, #@param {type: \"integer\"}\n",
    "\n",
    "    #@markdown gpu & run-time settings\n",
    "    no_gpu = False, #@param {type: \"boolean\"}\n",
    "    which_gpu = 0, #@param {type: \"integer\"}\n",
    "    seed = 2, #@param {type: \"integer\"}\n",
    "    logdir = 'test',\n",
    ")\n"
   ]
  },
  {
   "cell_type": "markdown",
   "metadata": {},
   "source": [
    "# Infrastructure\n",
    "**Policies**: We have provided implementations of simple neural network policies for your convenience. For discrete environments, the neural network takes in the current state and outputs the logits of the policy's action distribution at this state. The policy then outputs a categorical distribution using those logits. In environments with continuous action spaces, the network will output the mean of a diagonal Gaussian distribution, as well as having a separate single parameter for the log standard deviations of the Gaussian. \n",
    "\n",
    "Calling forward on the policy will output a torch distribution object, so look at the documentation at https://pytorch.org/docs/stable/distributions.html.\n",
    "Look at <code>policies/MLP_policy</code> to make sure you understand the implementation.\n",
    "\n",
    "**RL Training Loop**: The reinforcement learning training loop, which alternates between gathering samples from the environment and updating the policy (and other learned functions) can be found in <code>infrastructure/rl_trainer.py</code>. While you won't need to understand this for the basic behavior cloning part (as you only use a fixed set of expert data), you should read through and understand the run_training_loop function before starting the Dagger implementation."
   ]
  },
  {
   "cell_type": "markdown",
   "metadata": {},
   "source": [
    "# Basic Behavior Cloning\n",
    "The first part of the assignment will be a familiar exercise in supervised learning. Given a dataset of expert trajectories, we will simply train our policy to imitate the expert via maximum likelihood. Fill out the update method in the MLPPolicySL class in <code>policies/MLP_policy.py</code>."
   ]
  },
  {
   "cell_type": "code",
   "execution_count": 18,
   "metadata": {},
   "outputs": [
    {
     "name": "stdout",
     "output_type": "stream",
     "text": [
      "Weight before update [[-0.00432252  0.30971584 -0.47518533]\n",
      " [-0.4248946  -0.22236897  0.15482073]]\n",
      "tensor([[ 0.3337,  1.4941],\n",
      "        [-0.2052,  0.3131],\n",
      "        [-0.8541, -2.5530],\n",
      "        [ 0.6536,  0.8644],\n",
      "        [-0.7422,  2.2698]])\n",
      "tensor([[ 0.3337,  1.4941],\n",
      "        [-0.2052,  0.3131],\n",
      "        [-0.8541, -2.5530],\n",
      "        [ 0.6536,  0.8644],\n",
      "        [-0.7422,  2.2698]])\n",
      "tensor([[ 0.3337,  1.4941],\n",
      "        [-0.2052,  0.3131],\n",
      "        [-0.8541, -2.5530],\n",
      "        [ 0.6536,  0.8644],\n",
      "        [-0.7422,  2.2698]])\n",
      "tensor([[ 0.3337,  1.4941],\n",
      "        [-0.2052,  0.3131],\n",
      "        [-0.8541, -2.5530],\n",
      "        [ 0.6536,  0.8644],\n",
      "        [-0.7422,  2.2698]])\n",
      "tensor([[ 0.3337,  1.4941],\n",
      "        [-0.2052,  0.3131],\n",
      "        [-0.8541, -2.5530],\n",
      "        [ 0.6536,  0.8644],\n",
      "        [-0.7422,  2.2698]])\n",
      "2.628419\n",
      "Loss Error 1.4757100142599302e-08 should be on the order of 1e-6 or lower\n",
      "Weight after update [[ 0.03953294 -0.15170136 -1.5365069 ]\n",
      " [-0.21503028 -1.4284426  -0.8478559 ]]\n",
      "Change in weights [[ 0.04385546 -0.4614172  -1.0613215 ]\n",
      " [ 0.20986432 -1.2060736  -1.0026766 ]]\n",
      "Weight Update Error 9.918116881977745e-08 should be on the order of 1e-6 or lower\n"
     ]
    }
   ],
   "source": [
    "### Basic test for correctness of loss and gradients\n",
    "torch.manual_seed(0)\n",
    "ac_dim = 2\n",
    "ob_dim = 3\n",
    "batch_size = 5\n",
    "\n",
    "policy = MLPPolicySL(\n",
    "            ac_dim=ac_dim,\n",
    "            ob_dim=ob_dim,\n",
    "            n_layers=1,\n",
    "            size=2,\n",
    "            learning_rate=0.25)\n",
    "\n",
    "np.random.seed(0)\n",
    "obs = np.random.normal(size=(batch_size, ob_dim))\n",
    "acts = np.random.normal(size=(batch_size, ac_dim))\n",
    "\n",
    "first_weight_before = np.array(ptu.to_numpy(next(policy.mean_net.parameters())))\n",
    "print(\"Weight before update\", first_weight_before)\n",
    "\n",
    "for i in range(5):\n",
    "    loss = policy.update(obs, acts)['Training Loss']\n",
    "\n",
    "print(loss)\n",
    "expected_loss = 2.628419\n",
    "loss_error = rel_error(loss, expected_loss)\n",
    "print(\"Loss Error\", loss_error, \"should be on the order of 1e-6 or lower\")\n",
    "\n",
    "first_weight_after = ptu.to_numpy(next(policy.mean_net.parameters()))\n",
    "print('Weight after update', first_weight_after)\n",
    "\n",
    "weight_change = first_weight_after - first_weight_before\n",
    "print(\"Change in weights\", weight_change)\n",
    "\n",
    "expected_change = np.array([[ 0.04385546, -0.4614172,  -1.0613215 ],\n",
    "                            [ 0.20986436, -1.2060736,  -1.0026767 ]])\n",
    "updated_weight_error = rel_error(weight_change, expected_change)\n",
    "print(\"Weight Update Error\", updated_weight_error, \"should be on the order of 1e-6 or lower\")\n"
   ]
  },
  {
   "cell_type": "markdown",
   "metadata": {},
   "source": [
    "Having implemented our behavior cloning loss, we can now start training some policies to imitate the expert policies provided. \n",
    "\n",
    "Run the following cell to train policies with simple behavior cloning on the HalfCheetah environment."
   ]
  },
  {
   "cell_type": "code",
   "execution_count": 4,
   "metadata": {},
   "outputs": [
    {
     "name": "stdout",
     "output_type": "stream",
     "text": [
      "Folder logs/behavior_cloning/HalfCheetah does not exist yet. No old results to delete\n",
      "Running behavior cloning experiment with seed 0\n",
      "########################\n",
      "logging outputs to  logs/behavior_cloning/HalfCheetah/seed0\n",
      "########################\n",
      "Using CPU for this assignment. There may be some bugs with using GPU that cause test cases to not match. You can uncomment the code below if you want to try using it.\n",
      "HalfCheetah-v2\n"
     ]
    },
    {
     "name": "stderr",
     "output_type": "stream",
     "text": [
      "/Users/DaweiFu/opt/anaconda3/envs/cs182/lib/python3.9/site-packages/gym/envs/registration.py:415: UserWarning: \u001b[33mWARN: The `registry.env_specs` property along with `EnvSpecTree` is deprecated. Please use `registry` directly as a dictionary instead.\u001b[0m\n",
      "  logger.warn(\n",
      "/Users/DaweiFu/opt/anaconda3/envs/cs182/lib/python3.9/site-packages/gym/envs/registration.py:564: UserWarning: \u001b[33mWARN: The environment HalfCheetah-v2 is out of date. You should consider upgrading to version `v4`.\u001b[0m\n",
      "  logger.warn(\n"
     ]
    },
    {
     "ename": "ModuleNotFoundError",
     "evalue": "No module named 'glfw'",
     "output_type": "error",
     "traceback": [
      "\u001b[0;31m---------------------------------------------------------------------------\u001b[0m",
      "\u001b[0;31mModuleNotFoundError\u001b[0m                       Traceback (most recent call last)",
      "\u001b[1;32m/Users/DaweiFu/GitRepository/CS182/homework/hw4/Imitation Learning.ipynb Cell 8'\u001b[0m in \u001b[0;36m<cell line: 11>\u001b[0;34m()\u001b[0m\n\u001b[1;32m     <a href='vscode-notebook-cell:/Users/DaweiFu/GitRepository/CS182/homework/hw4/Imitation%20Learning.ipynb#ch0000007?line=12'>13</a>\u001b[0m bc_args[\u001b[39m'\u001b[39m\u001b[39mseed\u001b[39m\u001b[39m'\u001b[39m] \u001b[39m=\u001b[39m seed\n\u001b[1;32m     <a href='vscode-notebook-cell:/Users/DaweiFu/GitRepository/CS182/homework/hw4/Imitation%20Learning.ipynb#ch0000007?line=13'>14</a>\u001b[0m bc_args[\u001b[39m'\u001b[39m\u001b[39mlogdir\u001b[39m\u001b[39m'\u001b[39m] \u001b[39m=\u001b[39m \u001b[39m'\u001b[39m\u001b[39mlogs/behavior_cloning/\u001b[39m\u001b[39m{}\u001b[39;00m\u001b[39m/seed\u001b[39m\u001b[39m{}\u001b[39;00m\u001b[39m'\u001b[39m\u001b[39m.\u001b[39mformat(env_str, seed)\n\u001b[0;32m---> <a href='vscode-notebook-cell:/Users/DaweiFu/GitRepository/CS182/homework/hw4/Imitation%20Learning.ipynb#ch0000007?line=14'>15</a>\u001b[0m bctrainer \u001b[39m=\u001b[39m BC_Trainer(bc_args)\n\u001b[1;32m     <a href='vscode-notebook-cell:/Users/DaweiFu/GitRepository/CS182/homework/hw4/Imitation%20Learning.ipynb#ch0000007?line=15'>16</a>\u001b[0m bctrainer\u001b[39m.\u001b[39mrun_training_loop()\n",
      "File \u001b[0;32m~/GitRepository/CS182/homework/hw4/deeprl/infrastructure/trainers.py:33\u001b[0m, in \u001b[0;36mBC_Trainer.__init__\u001b[0;34m(self, params)\u001b[0m\n\u001b[1;32m     <a href='file:///Users/DaweiFu/GitRepository/CS182/homework/hw4/deeprl/infrastructure/trainers.py?line=26'>27</a>\u001b[0m \u001b[39mself\u001b[39m\u001b[39m.\u001b[39mparams[\u001b[39m'\u001b[39m\u001b[39magent_params\u001b[39m\u001b[39m'\u001b[39m] \u001b[39m=\u001b[39m agent_params\n\u001b[1;32m     <a href='file:///Users/DaweiFu/GitRepository/CS182/homework/hw4/deeprl/infrastructure/trainers.py?line=28'>29</a>\u001b[0m \u001b[39m################\u001b[39;00m\n\u001b[1;32m     <a href='file:///Users/DaweiFu/GitRepository/CS182/homework/hw4/deeprl/infrastructure/trainers.py?line=29'>30</a>\u001b[0m \u001b[39m## RL TRAINER\u001b[39;00m\n\u001b[1;32m     <a href='file:///Users/DaweiFu/GitRepository/CS182/homework/hw4/deeprl/infrastructure/trainers.py?line=30'>31</a>\u001b[0m \u001b[39m################\u001b[39;00m\n\u001b[0;32m---> <a href='file:///Users/DaweiFu/GitRepository/CS182/homework/hw4/deeprl/infrastructure/trainers.py?line=32'>33</a>\u001b[0m \u001b[39mself\u001b[39m\u001b[39m.\u001b[39mrl_trainer \u001b[39m=\u001b[39m RL_Trainer(\u001b[39mself\u001b[39;49m\u001b[39m.\u001b[39;49mparams) \u001b[39m## HW1: you will modify this\u001b[39;00m\n\u001b[1;32m     <a href='file:///Users/DaweiFu/GitRepository/CS182/homework/hw4/deeprl/infrastructure/trainers.py?line=34'>35</a>\u001b[0m \u001b[39m#######################\u001b[39;00m\n\u001b[1;32m     <a href='file:///Users/DaweiFu/GitRepository/CS182/homework/hw4/deeprl/infrastructure/trainers.py?line=35'>36</a>\u001b[0m \u001b[39m## LOAD EXPERT POLICY\u001b[39;00m\n\u001b[1;32m     <a href='file:///Users/DaweiFu/GitRepository/CS182/homework/hw4/deeprl/infrastructure/trainers.py?line=36'>37</a>\u001b[0m \u001b[39m#######################\u001b[39;00m\n\u001b[1;32m     <a href='file:///Users/DaweiFu/GitRepository/CS182/homework/hw4/deeprl/infrastructure/trainers.py?line=38'>39</a>\u001b[0m \u001b[39mprint\u001b[39m(\u001b[39m'\u001b[39m\u001b[39mLoading expert policy from...\u001b[39m\u001b[39m'\u001b[39m, \u001b[39mself\u001b[39m\u001b[39m.\u001b[39mparams[\u001b[39m'\u001b[39m\u001b[39mexpert_policy_file\u001b[39m\u001b[39m'\u001b[39m])\n",
      "File \u001b[0;32m~/GitRepository/CS182/homework/hw4/deeprl/infrastructure/rl_trainer.py:56\u001b[0m, in \u001b[0;36mRL_Trainer.__init__\u001b[0;34m(self, params)\u001b[0m\n\u001b[1;32m     <a href='file:///Users/DaweiFu/GitRepository/CS182/homework/hw4/deeprl/infrastructure/rl_trainer.py?line=53'>54</a>\u001b[0m register_custom_envs()\n\u001b[1;32m     <a href='file:///Users/DaweiFu/GitRepository/CS182/homework/hw4/deeprl/infrastructure/rl_trainer.py?line=54'>55</a>\u001b[0m \u001b[39mprint\u001b[39m(\u001b[39mself\u001b[39m\u001b[39m.\u001b[39mparams[\u001b[39m'\u001b[39m\u001b[39menv_name\u001b[39m\u001b[39m'\u001b[39m])\n\u001b[0;32m---> <a href='file:///Users/DaweiFu/GitRepository/CS182/homework/hw4/deeprl/infrastructure/rl_trainer.py?line=55'>56</a>\u001b[0m \u001b[39mself\u001b[39m\u001b[39m.\u001b[39menv \u001b[39m=\u001b[39m gym\u001b[39m.\u001b[39;49mmake(\u001b[39mself\u001b[39;49m\u001b[39m.\u001b[39;49mparams[\u001b[39m'\u001b[39;49m\u001b[39menv_name\u001b[39;49m\u001b[39m'\u001b[39;49m])\n\u001b[1;32m     <a href='file:///Users/DaweiFu/GitRepository/CS182/homework/hw4/deeprl/infrastructure/rl_trainer.py?line=56'>57</a>\u001b[0m \u001b[39mif\u001b[39;00m \u001b[39m'\u001b[39m\u001b[39menv_wrappers\u001b[39m\u001b[39m'\u001b[39m \u001b[39min\u001b[39;00m \u001b[39mself\u001b[39m\u001b[39m.\u001b[39mparams:\n\u001b[1;32m     <a href='file:///Users/DaweiFu/GitRepository/CS182/homework/hw4/deeprl/infrastructure/rl_trainer.py?line=57'>58</a>\u001b[0m     \u001b[39m# These operations are currently only for Atari envs\u001b[39;00m\n\u001b[1;32m     <a href='file:///Users/DaweiFu/GitRepository/CS182/homework/hw4/deeprl/infrastructure/rl_trainer.py?line=58'>59</a>\u001b[0m     \u001b[39mself\u001b[39m\u001b[39m.\u001b[39menv \u001b[39m=\u001b[39m wrappers\u001b[39m.\u001b[39mMonitor(\n\u001b[1;32m     <a href='file:///Users/DaweiFu/GitRepository/CS182/homework/hw4/deeprl/infrastructure/rl_trainer.py?line=59'>60</a>\u001b[0m         \u001b[39mself\u001b[39m\u001b[39m.\u001b[39menv,\n\u001b[1;32m     <a href='file:///Users/DaweiFu/GitRepository/CS182/homework/hw4/deeprl/infrastructure/rl_trainer.py?line=60'>61</a>\u001b[0m         os\u001b[39m.\u001b[39mpath\u001b[39m.\u001b[39mjoin(\u001b[39mself\u001b[39m\u001b[39m.\u001b[39mparams[\u001b[39m'\u001b[39m\u001b[39mlogdir\u001b[39m\u001b[39m'\u001b[39m], \u001b[39m\"\u001b[39m\u001b[39mgym\u001b[39m\u001b[39m\"\u001b[39m),\n\u001b[1;32m     <a href='file:///Users/DaweiFu/GitRepository/CS182/homework/hw4/deeprl/infrastructure/rl_trainer.py?line=61'>62</a>\u001b[0m         force\u001b[39m=\u001b[39m\u001b[39mTrue\u001b[39;00m,\n\u001b[1;32m     <a href='file:///Users/DaweiFu/GitRepository/CS182/homework/hw4/deeprl/infrastructure/rl_trainer.py?line=62'>63</a>\u001b[0m         video_callable\u001b[39m=\u001b[39m(\u001b[39mNone\u001b[39;00m \u001b[39mif\u001b[39;00m \u001b[39mself\u001b[39m\u001b[39m.\u001b[39mparams[\u001b[39m'\u001b[39m\u001b[39mvideo_log_freq\u001b[39m\u001b[39m'\u001b[39m] \u001b[39m>\u001b[39m \u001b[39m0\u001b[39m \u001b[39melse\u001b[39;00m \u001b[39mFalse\u001b[39;00m),\n\u001b[1;32m     <a href='file:///Users/DaweiFu/GitRepository/CS182/homework/hw4/deeprl/infrastructure/rl_trainer.py?line=63'>64</a>\u001b[0m     )\n",
      "File \u001b[0;32m~/opt/anaconda3/envs/cs182/lib/python3.9/site-packages/gym/envs/registration.py:590\u001b[0m, in \u001b[0;36mmake\u001b[0;34m(id, max_episode_steps, autoreset, disable_env_checker, **kwargs)\u001b[0m\n\u001b[1;32m    <a href='file:///Users/DaweiFu/opt/anaconda3/envs/cs182/lib/python3.9/site-packages/gym/envs/registration.py?line=586'>587</a>\u001b[0m     env_creator \u001b[39m=\u001b[39m spec_\u001b[39m.\u001b[39mentry_point\n\u001b[1;32m    <a href='file:///Users/DaweiFu/opt/anaconda3/envs/cs182/lib/python3.9/site-packages/gym/envs/registration.py?line=587'>588</a>\u001b[0m \u001b[39melse\u001b[39;00m:\n\u001b[1;32m    <a href='file:///Users/DaweiFu/opt/anaconda3/envs/cs182/lib/python3.9/site-packages/gym/envs/registration.py?line=588'>589</a>\u001b[0m     \u001b[39m# Assume it's a string\u001b[39;00m\n\u001b[0;32m--> <a href='file:///Users/DaweiFu/opt/anaconda3/envs/cs182/lib/python3.9/site-packages/gym/envs/registration.py?line=589'>590</a>\u001b[0m     env_creator \u001b[39m=\u001b[39m load(spec_\u001b[39m.\u001b[39;49mentry_point)\n\u001b[1;32m    <a href='file:///Users/DaweiFu/opt/anaconda3/envs/cs182/lib/python3.9/site-packages/gym/envs/registration.py?line=591'>592</a>\u001b[0m env \u001b[39m=\u001b[39m env_creator(\u001b[39m*\u001b[39m\u001b[39m*\u001b[39m_kwargs)\n\u001b[1;32m    <a href='file:///Users/DaweiFu/opt/anaconda3/envs/cs182/lib/python3.9/site-packages/gym/envs/registration.py?line=593'>594</a>\u001b[0m \u001b[39m# Copies the environment creation specification and kwargs to add to the environment specification details\u001b[39;00m\n",
      "File \u001b[0;32m~/opt/anaconda3/envs/cs182/lib/python3.9/site-packages/gym/envs/registration.py:56\u001b[0m, in \u001b[0;36mload\u001b[0;34m(name)\u001b[0m\n\u001b[1;32m     <a href='file:///Users/DaweiFu/opt/anaconda3/envs/cs182/lib/python3.9/site-packages/gym/envs/registration.py?line=46'>47</a>\u001b[0m \u001b[39m\"\"\"Loads an environment with name and returns an environment creation function\u001b[39;00m\n\u001b[1;32m     <a href='file:///Users/DaweiFu/opt/anaconda3/envs/cs182/lib/python3.9/site-packages/gym/envs/registration.py?line=47'>48</a>\u001b[0m \n\u001b[1;32m     <a href='file:///Users/DaweiFu/opt/anaconda3/envs/cs182/lib/python3.9/site-packages/gym/envs/registration.py?line=48'>49</a>\u001b[0m \u001b[39mArgs:\u001b[39;00m\n\u001b[0;32m   (...)\u001b[0m\n\u001b[1;32m     <a href='file:///Users/DaweiFu/opt/anaconda3/envs/cs182/lib/python3.9/site-packages/gym/envs/registration.py?line=52'>53</a>\u001b[0m \u001b[39m    Calls the environment constructor\u001b[39;00m\n\u001b[1;32m     <a href='file:///Users/DaweiFu/opt/anaconda3/envs/cs182/lib/python3.9/site-packages/gym/envs/registration.py?line=53'>54</a>\u001b[0m \u001b[39m\"\"\"\u001b[39;00m\n\u001b[1;32m     <a href='file:///Users/DaweiFu/opt/anaconda3/envs/cs182/lib/python3.9/site-packages/gym/envs/registration.py?line=54'>55</a>\u001b[0m mod_name, attr_name \u001b[39m=\u001b[39m name\u001b[39m.\u001b[39msplit(\u001b[39m\"\u001b[39m\u001b[39m:\u001b[39m\u001b[39m\"\u001b[39m)\n\u001b[0;32m---> <a href='file:///Users/DaweiFu/opt/anaconda3/envs/cs182/lib/python3.9/site-packages/gym/envs/registration.py?line=55'>56</a>\u001b[0m mod \u001b[39m=\u001b[39m importlib\u001b[39m.\u001b[39;49mimport_module(mod_name)\n\u001b[1;32m     <a href='file:///Users/DaweiFu/opt/anaconda3/envs/cs182/lib/python3.9/site-packages/gym/envs/registration.py?line=56'>57</a>\u001b[0m fn \u001b[39m=\u001b[39m \u001b[39mgetattr\u001b[39m(mod, attr_name)\n\u001b[1;32m     <a href='file:///Users/DaweiFu/opt/anaconda3/envs/cs182/lib/python3.9/site-packages/gym/envs/registration.py?line=57'>58</a>\u001b[0m \u001b[39mreturn\u001b[39;00m fn\n",
      "File \u001b[0;32m~/opt/anaconda3/envs/cs182/lib/python3.9/importlib/__init__.py:127\u001b[0m, in \u001b[0;36mimport_module\u001b[0;34m(name, package)\u001b[0m\n\u001b[1;32m    <a href='file:///Users/DaweiFu/opt/anaconda3/envs/cs182/lib/python3.9/importlib/__init__.py?line=124'>125</a>\u001b[0m             \u001b[39mbreak\u001b[39;00m\n\u001b[1;32m    <a href='file:///Users/DaweiFu/opt/anaconda3/envs/cs182/lib/python3.9/importlib/__init__.py?line=125'>126</a>\u001b[0m         level \u001b[39m+\u001b[39m\u001b[39m=\u001b[39m \u001b[39m1\u001b[39m\n\u001b[0;32m--> <a href='file:///Users/DaweiFu/opt/anaconda3/envs/cs182/lib/python3.9/importlib/__init__.py?line=126'>127</a>\u001b[0m \u001b[39mreturn\u001b[39;00m _bootstrap\u001b[39m.\u001b[39;49m_gcd_import(name[level:], package, level)\n",
      "File \u001b[0;32m<frozen importlib._bootstrap>:1030\u001b[0m, in \u001b[0;36m_gcd_import\u001b[0;34m(name, package, level)\u001b[0m\n",
      "File \u001b[0;32m<frozen importlib._bootstrap>:1007\u001b[0m, in \u001b[0;36m_find_and_load\u001b[0;34m(name, import_)\u001b[0m\n",
      "File \u001b[0;32m<frozen importlib._bootstrap>:986\u001b[0m, in \u001b[0;36m_find_and_load_unlocked\u001b[0;34m(name, import_)\u001b[0m\n",
      "File \u001b[0;32m<frozen importlib._bootstrap>:680\u001b[0m, in \u001b[0;36m_load_unlocked\u001b[0;34m(spec)\u001b[0m\n",
      "File \u001b[0;32m<frozen importlib._bootstrap_external>:850\u001b[0m, in \u001b[0;36mexec_module\u001b[0;34m(self, module)\u001b[0m\n",
      "File \u001b[0;32m<frozen importlib._bootstrap>:228\u001b[0m, in \u001b[0;36m_call_with_frames_removed\u001b[0;34m(f, *args, **kwds)\u001b[0m\n",
      "File \u001b[0;32m~/opt/anaconda3/envs/cs182/lib/python3.9/site-packages/gym/envs/mujoco/__init__.py:12\u001b[0m, in \u001b[0;36m<module>\u001b[0;34m\u001b[0m\n\u001b[1;32m     <a href='file:///Users/DaweiFu/opt/anaconda3/envs/cs182/lib/python3.9/site-packages/gym/envs/mujoco/__init__.py?line=9'>10</a>\u001b[0m \u001b[39mfrom\u001b[39;00m \u001b[39mgym\u001b[39;00m\u001b[39m.\u001b[39;00m\u001b[39menvs\u001b[39;00m\u001b[39m.\u001b[39;00m\u001b[39mmujoco\u001b[39;00m\u001b[39m.\u001b[39;00m\u001b[39minverted_double_pendulum\u001b[39;00m \u001b[39mimport\u001b[39;00m InvertedDoublePendulumEnv\n\u001b[1;32m     <a href='file:///Users/DaweiFu/opt/anaconda3/envs/cs182/lib/python3.9/site-packages/gym/envs/mujoco/__init__.py?line=10'>11</a>\u001b[0m \u001b[39mfrom\u001b[39;00m \u001b[39mgym\u001b[39;00m\u001b[39m.\u001b[39;00m\u001b[39menvs\u001b[39;00m\u001b[39m.\u001b[39;00m\u001b[39mmujoco\u001b[39;00m\u001b[39m.\u001b[39;00m\u001b[39minverted_pendulum\u001b[39;00m \u001b[39mimport\u001b[39;00m InvertedPendulumEnv\n\u001b[0;32m---> <a href='file:///Users/DaweiFu/opt/anaconda3/envs/cs182/lib/python3.9/site-packages/gym/envs/mujoco/__init__.py?line=11'>12</a>\u001b[0m \u001b[39mfrom\u001b[39;00m \u001b[39mgym\u001b[39;00m\u001b[39m.\u001b[39;00m\u001b[39menvs\u001b[39;00m\u001b[39m.\u001b[39;00m\u001b[39mmujoco\u001b[39;00m\u001b[39m.\u001b[39;00m\u001b[39mmujoco_rendering\u001b[39;00m \u001b[39mimport\u001b[39;00m RenderContextOffscreen, Viewer\n\u001b[1;32m     <a href='file:///Users/DaweiFu/opt/anaconda3/envs/cs182/lib/python3.9/site-packages/gym/envs/mujoco/__init__.py?line=12'>13</a>\u001b[0m \u001b[39mfrom\u001b[39;00m \u001b[39mgym\u001b[39;00m\u001b[39m.\u001b[39;00m\u001b[39menvs\u001b[39;00m\u001b[39m.\u001b[39;00m\u001b[39mmujoco\u001b[39;00m\u001b[39m.\u001b[39;00m\u001b[39mpusher\u001b[39;00m \u001b[39mimport\u001b[39;00m PusherEnv\n\u001b[1;32m     <a href='file:///Users/DaweiFu/opt/anaconda3/envs/cs182/lib/python3.9/site-packages/gym/envs/mujoco/__init__.py?line=13'>14</a>\u001b[0m \u001b[39mfrom\u001b[39;00m \u001b[39mgym\u001b[39;00m\u001b[39m.\u001b[39;00m\u001b[39menvs\u001b[39;00m\u001b[39m.\u001b[39;00m\u001b[39mmujoco\u001b[39;00m\u001b[39m.\u001b[39;00m\u001b[39mreacher\u001b[39;00m \u001b[39mimport\u001b[39;00m ReacherEnv\n",
      "File \u001b[0;32m~/opt/anaconda3/envs/cs182/lib/python3.9/site-packages/gym/envs/mujoco/mujoco_rendering.py:7\u001b[0m, in \u001b[0;36m<module>\u001b[0;34m\u001b[0m\n\u001b[1;32m      <a href='file:///Users/DaweiFu/opt/anaconda3/envs/cs182/lib/python3.9/site-packages/gym/envs/mujoco/mujoco_rendering.py?line=3'>4</a>\u001b[0m \u001b[39mimport\u001b[39;00m \u001b[39mtime\u001b[39;00m\n\u001b[1;32m      <a href='file:///Users/DaweiFu/opt/anaconda3/envs/cs182/lib/python3.9/site-packages/gym/envs/mujoco/mujoco_rendering.py?line=4'>5</a>\u001b[0m \u001b[39mfrom\u001b[39;00m \u001b[39mthreading\u001b[39;00m \u001b[39mimport\u001b[39;00m Lock\n\u001b[0;32m----> <a href='file:///Users/DaweiFu/opt/anaconda3/envs/cs182/lib/python3.9/site-packages/gym/envs/mujoco/mujoco_rendering.py?line=6'>7</a>\u001b[0m \u001b[39mimport\u001b[39;00m \u001b[39mglfw\u001b[39;00m\n\u001b[1;32m      <a href='file:///Users/DaweiFu/opt/anaconda3/envs/cs182/lib/python3.9/site-packages/gym/envs/mujoco/mujoco_rendering.py?line=7'>8</a>\u001b[0m \u001b[39mimport\u001b[39;00m \u001b[39mimageio\u001b[39;00m\n\u001b[1;32m      <a href='file:///Users/DaweiFu/opt/anaconda3/envs/cs182/lib/python3.9/site-packages/gym/envs/mujoco/mujoco_rendering.py?line=8'>9</a>\u001b[0m \u001b[39mimport\u001b[39;00m \u001b[39mmujoco\u001b[39;00m\n",
      "\u001b[0;31mModuleNotFoundError\u001b[0m: No module named 'glfw'"
     ]
    }
   ],
   "source": [
    "bc_args = dict(bc_base_args_dict)\n",
    "\n",
    "env_str = 'HalfCheetah'\n",
    "bc_args['expert_policy_file'] = 'deeprl/policies/experts/{}.pkl'.format(env_str)\n",
    "bc_args['expert_data'] = 'deeprl/expert_data/expert_data_{}-v2.pkl'.format(env_str)\n",
    "bc_args['env_name'] = '{}-v2'.format(env_str)\n",
    "\n",
    "# Delete all previous logs\n",
    "remove_folder('logs/behavior_cloning/{}'.format(env_str))\n",
    "\n",
    "for seed in range(3):\n",
    "    print(\"Running behavior cloning experiment with seed\", seed)\n",
    "    bc_args['seed'] = seed\n",
    "    bc_args['logdir'] = 'logs/behavior_cloning/{}/seed{}'.format(env_str, seed)\n",
    "    bctrainer = BC_Trainer(bc_args)\n",
    "    bctrainer.run_training_loop()"
   ]
  },
  {
   "cell_type": "markdown",
   "metadata": {},
   "source": [
    "Visualize your results using Tensorboard. You should see that on HalfCheetah, the returns of your learned policies (Eval_AverageReturn) are fairly similar (thought a bit lower) to that of the expert (Initial_DataCollection_Average_Return)."
   ]
  },
  {
   "cell_type": "code",
   "execution_count": null,
   "metadata": {},
   "outputs": [],
   "source": [
    "### Visualize behavior cloning results on HalfCheetah\n",
    "%load_ext tensorboard\n",
    "%tensorboard --logdir logs/behavior_cloning/HalfCheetah"
   ]
  },
  {
   "cell_type": "markdown",
   "metadata": {},
   "source": [
    "Now run the following cell to train policies with simple behavior cloning on Hopper."
   ]
  },
  {
   "cell_type": "code",
   "execution_count": null,
   "metadata": {},
   "outputs": [],
   "source": [
    "bc_args = dict(bc_base_args_dict)\n",
    "\n",
    "env_str = 'Hopper'\n",
    "bc_args['expert_policy_file'] = 'deeprl/policies/experts/{}.pkl'.format(env_str)\n",
    "bc_args['expert_data'] = 'deeprl/expert_data/expert_data_{}-v2.pkl'.format(env_str)\n",
    "bc_args['env_name'] = '{}-v2'.format(env_str)\n",
    "\n",
    "# Delete all previous logs\n",
    "remove_folder('logs/behavior_cloning/{}'.format(env_str))\n",
    "\n",
    "for seed in range(3):\n",
    "    print(\"Running behavior cloning experiment on Hopper with seed\", seed)\n",
    "    bc_args['seed'] = seed\n",
    "    bc_args['logdir'] = 'logs/behavior_cloning/{}/seed{}'.format(env_str, seed)\n",
    "    bctrainer = BC_Trainer(bc_args)\n",
    "    bctrainer.run_training_loop()"
   ]
  },
  {
   "cell_type": "markdown",
   "metadata": {},
   "source": [
    "Visualize your results using Tensorboard. You should see that on Hopper, the returns of your learned policies (Eval_AverageReturn) are substantially lower than that of the expert (Initial_DataCollection_Average_Return), due to the distribution shift issues that arise when doing naive behavior cloning."
   ]
  },
  {
   "cell_type": "code",
   "execution_count": null,
   "metadata": {},
   "outputs": [],
   "source": [
    "### Visualize behavior cloning results on Hopper\n",
    "%load_ext tensorboard\n",
    "%tensorboard --logdir logs/behavior_cloning/Hopper"
   ]
  },
  {
   "cell_type": "markdown",
   "metadata": {},
   "source": [
    "# Dataset Aggregation\n",
    "As discussed in lecture, behavior cloning can suffer from distribution shift, as a small mismatch between the learned and expert policy can take the learned policy to new states that were unseen during training, on which the learned policy hasn't been trained. In Dagger, we will address this issue iteratively, where we use our expert policy to provide labels for the new states we encounter with our learned policy, and then retrain our policy on these newly labeled states.\n",
    "\n",
    "Implement the <code>do_relabel_with_expert</code> function in <code>infrastructure/rl_trainer.py</code>. The errors in the expert actions should be on the order of 1e-6 or less."
   ]
  },
  {
   "cell_type": "code",
   "execution_count": null,
   "metadata": {},
   "outputs": [],
   "source": [
    "### Test do relabel function\n",
    "bc_args = dict(bc_base_args_dict)\n",
    "\n",
    "env_str = 'Hopper'\n",
    "bc_args['expert_policy_file'] = 'deeprl/policies/experts/{}.pkl'.format(env_str)\n",
    "bc_args['expert_data'] = 'deeprl/expert_data/expert_data_{}-v2.pkl'.format(env_str)\n",
    "bc_args['env_name'] = '{}-v2'.format(env_str)\n",
    "bctrainer = BC_Trainer(bc_args)\n",
    "\n",
    "np.random.seed(0)\n",
    "T = 2\n",
    "ob_dim = 11\n",
    "ac_dim = 3\n",
    "\n",
    "paths = []\n",
    "for i in range(3):\n",
    "    obs = np.random.normal(size=(T, ob_dim))\n",
    "    acs = np.random.normal(size=(T, ac_dim))\n",
    "    paths.append(dict(observation=obs,\n",
    "                      action=acs))\n",
    "    \n",
    "rl_trainer = bctrainer.rl_trainer\n",
    "relabeled_paths = rl_trainer.do_relabel_with_expert(bctrainer.loaded_expert_policy, paths)\n",
    "\n",
    "expert_actions = np.array([[[-1.7814021, -0.11137983,  1.763353  ],\n",
    "                            [-2.589222,   -5.463195,    2.4301376 ]],\n",
    "                           [[-2.8287444, -5.298558,   3.0320463],\n",
    "                            [ 3.9611065,  2.626403,  -2.8639293]],\n",
    "                           [[-0.3055225,  -0.9865407,   0.80830705],\n",
    "                            [ 2.8788857,   3.5550566,  -0.92875874]]])\n",
    "\n",
    "for i, (path, relabeled_path) in enumerate(zip(paths, relabeled_paths)):\n",
    "    assert np.all(path['observation'] == relabeled_path['observation'])\n",
    "    print(\"Path {} expert action error\".format(i), rel_error(expert_actions[i], relabeled_path['action']))"
   ]
  },
  {
   "cell_type": "markdown",
   "metadata": {},
   "source": [
    "We can run Dagger on the Hopper env again."
   ]
  },
  {
   "cell_type": "code",
   "execution_count": null,
   "metadata": {},
   "outputs": [],
   "source": [
    "dagger_args = dict(bc_base_args_dict)\n",
    "\n",
    "dagger_args['do_dagger'] = True\n",
    "dagger_args['n_iter'] = 10\n",
    "\n",
    "env_str = 'Hopper'\n",
    "dagger_args['expert_policy_file'] = 'deeprl/policies/experts/{}.pkl'.format(env_str)\n",
    "dagger_args['expert_data'] = 'deeprl/expert_data/expert_data_{}-v2.pkl'.format(env_str)\n",
    "dagger_args['env_name'] = '{}-v2'.format(env_str)\n"
   ]
  },
  {
   "cell_type": "code",
   "execution_count": null,
   "metadata": {},
   "outputs": [],
   "source": [
    "# Delete all previous logs\n",
    "remove_folder('logs/dagger/{}'.format(env_str))\n",
    "\n",
    "for seed in range(3):\n",
    "    print(\"Running Dagger experiment with seed\", seed)\n",
    "    dagger_args['seed'] = seed\n",
    "    dagger_args['logdir'] = 'logs/dagger/{}/seed{}'.format(env_str, seed)\n",
    "    bctrainer = BC_Trainer(dagger_args)\n",
    "    bctrainer.run_training_loop()"
   ]
  },
  {
   "cell_type": "markdown",
   "metadata": {},
   "source": [
    "Visualizing the Dagger results on Hopper, we see that Dagger is able to recover the performance of the expert policy after a few iterations of online interaction and expert relabeling."
   ]
  },
  {
   "cell_type": "code",
   "execution_count": null,
   "metadata": {},
   "outputs": [],
   "source": [
    "### Visualize Dagger results on Hopper\n",
    "%load_ext tensorboard\n",
    "%tensorboard --logdir logs/dagger/Hopper"
   ]
  }
 ],
 "metadata": {
  "kernelspec": {
   "display_name": "Python 3",
   "language": "python",
   "name": "python3"
  },
  "language_info": {
   "codemirror_mode": {
    "name": "ipython",
    "version": 3
   },
   "file_extension": ".py",
   "mimetype": "text/x-python",
   "name": "python",
   "nbconvert_exporter": "python",
   "pygments_lexer": "ipython3",
   "version": "3.9.12"
  }
 },
 "nbformat": 4,
 "nbformat_minor": 4
}
